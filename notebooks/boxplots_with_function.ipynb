{
 "cells": [
  {
   "cell_type": "markdown",
   "id": "00706840",
   "metadata": {},
   "source": [
    "# Producing boxplots using the produce_boxplot function\n",
    "\n",
    "Note: Must be using up-to-date Python3 for this to work. Do not use learn-env environment"
   ]
  },
  {
   "cell_type": "code",
   "execution_count": null,
   "id": "556fbe76",
   "metadata": {},
   "outputs": [],
   "source": [
    "import pandas as pd\n",
    "import matplotlib.pyplot as plt\n",
    "import seaborn as sns"
   ]
  },
  {
   "cell_type": "code",
   "execution_count": null,
   "id": "0e684ead",
   "metadata": {},
   "outputs": [],
   "source": [
    "master_df = pd.read_pickle('movie_master_dataset_with_inflation.pkl')"
   ]
  },
  {
   "cell_type": "code",
   "execution_count": null,
   "id": "80e00c37",
   "metadata": {
    "scrolled": false
   },
   "outputs": [],
   "source": [
    "def produce_boxplot(master, budget, movie_count_thresh=100, ylim=(-1.5,30)):\n",
    "    '''\n",
    "    Produces a boxplot with inputs:\n",
    "        master - the master dataframe as pandas df\n",
    "        budget - an int of the minimum movie budget for the data\n",
    "        movie_count_thresh - the minimum number of movies per genre required for plotting\n",
    "        ylim - the limits of the y axis a tuple -> (min, max)\n",
    "        \n",
    "    Returns None\n",
    "    Spits out boxplots\n",
    "    '''\n",
    "    \n",
    "    \n",
    "    \n",
    "    # df with no duplicated\n",
    "    no_duplicates_df = master.drop_duplicates(subset=['movie','inf_adj_production_budget'])\n",
    "    \n",
    "    # list with all genre names\n",
    "    genre_names = master_df.columns.tolist()[10:]\n",
    "\n",
    "    # df with minimum budget and no duplicates\n",
    "    budget_min_df = no_duplicates_df[no_duplicates_df['inf_adj_production_budget'] > budget]\n",
    "    \n",
    "    # creating list of genres where there are at least movie_count_thresh number of movies\n",
    "    remaining_genres = []\n",
    "    for genre in genre_names:\n",
    "        if budget_min_df[genre].sum() > movie_count_thresh:\n",
    "            remaining_genres.append(genre)\n",
    "    \n",
    "    # get list of column names and get list of total movies for that column\n",
    "    col_names_desc = [names for counts, names in sorted(zip(budget_min_df[remaining_genres].sum().values.tolist(), \n",
    "                                               budget_min_df[remaining_genres].sum().index.tolist()), reverse=True)]\n",
    "    col_counts_desc = [counts for counts, names in sorted(zip(budget_min_df[remaining_genres].sum().values.tolist(), \n",
    "                                               budget_min_df[remaining_genres].sum().index.tolist()), reverse=True)]\n",
    "    \n",
    "    # labels for x axis\n",
    "    plt_x_labels = [ str(x) + ' - ' + str(y) for x, y in zip(col_names_desc, col_counts_desc)]\n",
    "    \n",
    "    # THE PLOT\n",
    "    fig, ax = plt.subplots(figsize=(12,7))\n",
    "    ax.boxplot([budget_min_df[budget_min_df[col] == True]['ROI'] for col in col_names_desc], \n",
    "           labels=plt_x_labels)\n",
    "    ax.set_ylim(ylim)\n",
    "    ax.set_title('Budget > ' + format(int(budget), ',') + ' Million ROI for each genre boxplot')\n",
    "    ax.set_ylabel('ROI')\n",
    "    ax.set_xlabel('Genre')\n",
    "    plt.xticks(fontsize=12, rotation=90)\n",
    "    plt.show()\n",
    "    \n",
    "    print()"
   ]
  },
  {
   "cell_type": "code",
   "execution_count": null,
   "id": "cf66c391",
   "metadata": {},
   "outputs": [],
   "source": [
    "produce_boxplot(master_df, 1e7, 100, (-1.5, 32))"
   ]
  },
  {
   "cell_type": "code",
   "execution_count": null,
   "id": "60dbaeb0",
   "metadata": {},
   "outputs": [],
   "source": [
    "produce_boxplot(master_df, 5e7, 100, (-1.5,16))"
   ]
  }
 ],
 "metadata": {
  "kernelspec": {
   "display_name": "Python 3 (ipykernel)",
   "language": "python",
   "name": "python3"
  },
  "language_info": {
   "codemirror_mode": {
    "name": "ipython",
    "version": 3
   },
   "file_extension": ".py",
   "mimetype": "text/x-python",
   "name": "python",
   "nbconvert_exporter": "python",
   "pygments_lexer": "ipython3",
   "version": "3.9.13"
  }
 },
 "nbformat": 4,
 "nbformat_minor": 5
}
