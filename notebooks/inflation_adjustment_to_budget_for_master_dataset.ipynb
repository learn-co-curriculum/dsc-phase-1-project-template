{
 "cells": [
  {
   "cell_type": "markdown",
   "id": "674ad401",
   "metadata": {},
   "source": [
    "# Adjusting budget data for inflation -> Creating dataframe and pickle file"
   ]
  },
  {
   "cell_type": "markdown",
   "id": "3057f291",
   "metadata": {},
   "source": [
    "### Inflation for budget will be calculated according to the consumer price index (CPI) from 2022-12-31\n",
    "Using the equation: adjusted_value = (old_value * cpi_current) / cpi_old \n",
    "\n",
    "From https://medium.com/analytics-vidhya/adjusting-for-inflation-when-analysing-historical-data-with-python-9d69a8dcbc27\n",
    "\n",
    "#### Oldest and newest movies:\n",
    "\n",
    "Oldest = 2010-01-08\n",
    "\n",
    "Newest = 2020-02-21\n",
    "\n",
    "Note: Do not use learn-env environment. Needs to be most recent python3"
   ]
  },
  {
   "cell_type": "code",
   "execution_count": 1,
   "id": "2d5f45b1",
   "metadata": {},
   "outputs": [],
   "source": [
    "import pandas as pd\n",
    "import numpy as np\n",
    "import matplotlib as mpl\n",
    "import matplotlib.pyplot as plt\n",
    "import seaborn as sns\n",
    "import quandl\n",
    "QUANDL_KEY = 'daf3zZyPaQRMjpUcP8Lg'           # Diego's account quandl key\n",
    "quandl.ApiConfig.api_key=QUANDL_KEY"
   ]
  },
  {
   "cell_type": "code",
   "execution_count": 2,
   "id": "ae763cf1",
   "metadata": {},
   "outputs": [],
   "source": [
    "# If quandl not installed, use pip\n",
    "# ! pip install quandl"
   ]
  },
  {
   "cell_type": "code",
   "execution_count": 3,
   "id": "97ff386a",
   "metadata": {},
   "outputs": [],
   "source": [
    "master_df = pd.read_pickle('../plotting_data/movie_master_dataset.pkl')"
   ]
  },
  {
   "cell_type": "markdown",
   "id": "01006d59",
   "metadata": {},
   "source": [
    "### Creating the cpi dataframe to access the cpi values when joining later"
   ]
  },
  {
   "cell_type": "code",
   "execution_count": 4,
   "id": "afa5b45b",
   "metadata": {},
   "outputs": [],
   "source": [
    "# Creating a cpi dataframe to be used for creating an inflation adjusted budget column\n",
    "df_cpi = quandl.get(dataset='RATEINF/CPI_USA',start_date='2009-01-01',end_date='2023-12-22')\n",
    "df_cpi.rename(columns={'Value':'cpi'}, inplace=True)\n",
    "df_cpi.reset_index(inplace=True)"
   ]
  },
  {
   "cell_type": "code",
   "execution_count": 5,
   "id": "ab4b978d",
   "metadata": {},
   "outputs": [],
   "source": [
    "# Adding columns to the master dataframe that include the year and month as integers in their own columns\n",
    "master_df['y'], master_df['m'] = master_df['release_date'].dt.year, master_df['release_date'].dt.month"
   ]
  },
  {
   "cell_type": "code",
   "execution_count": 6,
   "id": "a17874ab",
   "metadata": {},
   "outputs": [],
   "source": [
    "# Adding columns to the cpi dataframe that include the year and month as integers in their own columns\n",
    "df_cpi['y'], df_cpi['m'] = df_cpi['Date'].dt.year, df_cpi['Date'].dt.month"
   ]
  },
  {
   "cell_type": "code",
   "execution_count": 7,
   "id": "c0eaf091",
   "metadata": {},
   "outputs": [],
   "source": [
    "# Merging the cpi dataframe with the master dataframe along month and day of release and month and day of cpi\n",
    "master_df = master_df.merge(df_cpi, how='left', left_on=['y', 'm'], right_on=['y', 'm'])"
   ]
  },
  {
   "cell_type": "code",
   "execution_count": 8,
   "id": "bf9f43ec",
   "metadata": {},
   "outputs": [],
   "source": [
    "# Adding the inflation adjust budget column using curr_cpi as the current cpi value (from 2022-12-31)\n",
    "cur_cpi = df_cpi.iloc[-1]['cpi']    # The 'current' cpi (i.e. the cpi on 2022-12-31)\n",
    "master_df['inf_adj_production_budget'] = ((master_df['production_budget']*cur_cpi)/master_df['cpi']).astype(int)"
   ]
  },
  {
   "cell_type": "code",
   "execution_count": 9,
   "id": "d7d61b60",
   "metadata": {},
   "outputs": [],
   "source": [
    "# Remove unnecessary columns\n",
    "master_df.drop(labels=['y', 'm', 'Date', 'cpi'], axis=1, inplace=True)"
   ]
  },
  {
   "cell_type": "code",
   "execution_count": 10,
   "id": "8dc6febe",
   "metadata": {},
   "outputs": [],
   "source": [
    "# Change order of columns so they have inflation adjusted production budget after regular production budget\n",
    "corrected_col_order = master_df.columns.tolist()\n",
    "corrected_col_order.insert(3, corrected_col_order.pop(-1))\n",
    "master_df = master_df[corrected_col_order]"
   ]
  },
  {
   "cell_type": "markdown",
   "id": "0f0582fe",
   "metadata": {},
   "source": [
    "#### Sending the inflation adjusted budget to a pickle file"
   ]
  },
  {
   "cell_type": "code",
   "execution_count": 11,
   "id": "ac7efd7d",
   "metadata": {},
   "outputs": [],
   "source": [
    "master_df.to_pickle('../plotting_data/movie_master_dataset_with_inflation.pkl')"
   ]
  }
 ],
 "metadata": {
  "kernelspec": {
   "display_name": "Python 3 (ipykernel)",
   "language": "python",
   "name": "python3"
  },
  "language_info": {
   "codemirror_mode": {
    "name": "ipython",
    "version": 3
   },
   "file_extension": ".py",
   "mimetype": "text/x-python",
   "name": "python",
   "nbconvert_exporter": "python",
   "pygments_lexer": "ipython3",
   "version": "3.9.13"
  }
 },
 "nbformat": 4,
 "nbformat_minor": 5
}
