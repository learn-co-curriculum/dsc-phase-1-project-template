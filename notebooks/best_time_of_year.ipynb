{
 "cells": [
  {
   "cell_type": "code",
   "execution_count": 51,
   "id": "a8bdb727",
   "metadata": {},
   "outputs": [],
   "source": [
    "import pandas as pd\n",
    "import seaborn as sns\n",
    "import numpy as np\n",
    "import matplotlib.pyplot as plt"
   ]
  },
  {
   "cell_type": "code",
   "execution_count": null,
   "id": "a602d205",
   "metadata": {},
   "outputs": [],
   "source": []
  },
  {
   "cell_type": "code",
   "execution_count": 52,
   "id": "a15bd206",
   "metadata": {},
   "outputs": [],
   "source": [
    "master_df = pd.read_pickle('movie_master_dataset_with_inflation.pkl')"
   ]
  },
  {
   "cell_type": "code",
   "execution_count": 53,
   "id": "7d9a56b1",
   "metadata": {},
   "outputs": [
    {
     "data": {
      "text/html": [
       "<div>\n",
       "<style scoped>\n",
       "    .dataframe tbody tr th:only-of-type {\n",
       "        vertical-align: middle;\n",
       "    }\n",
       "\n",
       "    .dataframe tbody tr th {\n",
       "        vertical-align: top;\n",
       "    }\n",
       "\n",
       "    .dataframe thead th {\n",
       "        text-align: right;\n",
       "    }\n",
       "</style>\n",
       "<table border=\"1\" class=\"dataframe\">\n",
       "  <thead>\n",
       "    <tr style=\"text-align: right;\">\n",
       "      <th></th>\n",
       "      <th>release_date</th>\n",
       "      <th>movie</th>\n",
       "      <th>production_budget</th>\n",
       "      <th>inf_adj_production_budget</th>\n",
       "      <th>domestic_gross</th>\n",
       "      <th>worldwide_gross</th>\n",
       "      <th>worldwide_profit</th>\n",
       "      <th>ROI</th>\n",
       "      <th>person_name</th>\n",
       "      <th>movie_role</th>\n",
       "      <th>...</th>\n",
       "      <th>News</th>\n",
       "      <th>Reality-TV</th>\n",
       "      <th>Romance</th>\n",
       "      <th>Sci-Fi</th>\n",
       "      <th>Short</th>\n",
       "      <th>Sport</th>\n",
       "      <th>Talk-Show</th>\n",
       "      <th>Thriller</th>\n",
       "      <th>War</th>\n",
       "      <th>Western</th>\n",
       "    </tr>\n",
       "  </thead>\n",
       "  <tbody>\n",
       "    <tr>\n",
       "      <th>0</th>\n",
       "      <td>2011-05-20</td>\n",
       "      <td>Pirates of the Caribbean: On Stranger Tides</td>\n",
       "      <td>410600000</td>\n",
       "      <td>539310899</td>\n",
       "      <td>241063875</td>\n",
       "      <td>1045663875</td>\n",
       "      <td>635063875</td>\n",
       "      <td>1.546673</td>\n",
       "      <td>Johnny Depp</td>\n",
       "      <td>actor</td>\n",
       "      <td>...</td>\n",
       "      <td>False</td>\n",
       "      <td>False</td>\n",
       "      <td>False</td>\n",
       "      <td>False</td>\n",
       "      <td>False</td>\n",
       "      <td>False</td>\n",
       "      <td>False</td>\n",
       "      <td>False</td>\n",
       "      <td>False</td>\n",
       "      <td>False</td>\n",
       "    </tr>\n",
       "    <tr>\n",
       "      <th>1</th>\n",
       "      <td>2011-05-20</td>\n",
       "      <td>Pirates of the Caribbean: On Stranger Tides</td>\n",
       "      <td>410600000</td>\n",
       "      <td>539310899</td>\n",
       "      <td>241063875</td>\n",
       "      <td>1045663875</td>\n",
       "      <td>635063875</td>\n",
       "      <td>1.546673</td>\n",
       "      <td>Geoffrey Rush</td>\n",
       "      <td>actor</td>\n",
       "      <td>...</td>\n",
       "      <td>False</td>\n",
       "      <td>False</td>\n",
       "      <td>False</td>\n",
       "      <td>False</td>\n",
       "      <td>False</td>\n",
       "      <td>False</td>\n",
       "      <td>False</td>\n",
       "      <td>False</td>\n",
       "      <td>False</td>\n",
       "      <td>False</td>\n",
       "    </tr>\n",
       "    <tr>\n",
       "      <th>2</th>\n",
       "      <td>2011-05-20</td>\n",
       "      <td>Pirates of the Caribbean: On Stranger Tides</td>\n",
       "      <td>410600000</td>\n",
       "      <td>539310899</td>\n",
       "      <td>241063875</td>\n",
       "      <td>1045663875</td>\n",
       "      <td>635063875</td>\n",
       "      <td>1.546673</td>\n",
       "      <td>Penélope Cruz</td>\n",
       "      <td>actress</td>\n",
       "      <td>...</td>\n",
       "      <td>False</td>\n",
       "      <td>False</td>\n",
       "      <td>False</td>\n",
       "      <td>False</td>\n",
       "      <td>False</td>\n",
       "      <td>False</td>\n",
       "      <td>False</td>\n",
       "      <td>False</td>\n",
       "      <td>False</td>\n",
       "      <td>False</td>\n",
       "    </tr>\n",
       "    <tr>\n",
       "      <th>3</th>\n",
       "      <td>2011-05-20</td>\n",
       "      <td>Pirates of the Caribbean: On Stranger Tides</td>\n",
       "      <td>410600000</td>\n",
       "      <td>539310899</td>\n",
       "      <td>241063875</td>\n",
       "      <td>1045663875</td>\n",
       "      <td>635063875</td>\n",
       "      <td>1.546673</td>\n",
       "      <td>Stuart Beattie</td>\n",
       "      <td>writer</td>\n",
       "      <td>...</td>\n",
       "      <td>False</td>\n",
       "      <td>False</td>\n",
       "      <td>False</td>\n",
       "      <td>False</td>\n",
       "      <td>False</td>\n",
       "      <td>False</td>\n",
       "      <td>False</td>\n",
       "      <td>False</td>\n",
       "      <td>False</td>\n",
       "      <td>False</td>\n",
       "    </tr>\n",
       "    <tr>\n",
       "      <th>4</th>\n",
       "      <td>2011-05-20</td>\n",
       "      <td>Pirates of the Caribbean: On Stranger Tides</td>\n",
       "      <td>410600000</td>\n",
       "      <td>539310899</td>\n",
       "      <td>241063875</td>\n",
       "      <td>1045663875</td>\n",
       "      <td>635063875</td>\n",
       "      <td>1.546673</td>\n",
       "      <td>Ted Elliott</td>\n",
       "      <td>writer</td>\n",
       "      <td>...</td>\n",
       "      <td>False</td>\n",
       "      <td>False</td>\n",
       "      <td>False</td>\n",
       "      <td>False</td>\n",
       "      <td>False</td>\n",
       "      <td>False</td>\n",
       "      <td>False</td>\n",
       "      <td>False</td>\n",
       "      <td>False</td>\n",
       "      <td>False</td>\n",
       "    </tr>\n",
       "  </tbody>\n",
       "</table>\n",
       "<p>5 rows × 37 columns</p>\n",
       "</div>"
      ],
      "text/plain": [
       "  release_date                                        movie  \\\n",
       "0   2011-05-20  Pirates of the Caribbean: On Stranger Tides   \n",
       "1   2011-05-20  Pirates of the Caribbean: On Stranger Tides   \n",
       "2   2011-05-20  Pirates of the Caribbean: On Stranger Tides   \n",
       "3   2011-05-20  Pirates of the Caribbean: On Stranger Tides   \n",
       "4   2011-05-20  Pirates of the Caribbean: On Stranger Tides   \n",
       "\n",
       "   production_budget  inf_adj_production_budget  domestic_gross  \\\n",
       "0          410600000                  539310899       241063875   \n",
       "1          410600000                  539310899       241063875   \n",
       "2          410600000                  539310899       241063875   \n",
       "3          410600000                  539310899       241063875   \n",
       "4          410600000                  539310899       241063875   \n",
       "\n",
       "   worldwide_gross  worldwide_profit       ROI     person_name movie_role  \\\n",
       "0       1045663875         635063875  1.546673     Johnny Depp      actor   \n",
       "1       1045663875         635063875  1.546673   Geoffrey Rush      actor   \n",
       "2       1045663875         635063875  1.546673   Penélope Cruz    actress   \n",
       "3       1045663875         635063875  1.546673  Stuart Beattie     writer   \n",
       "4       1045663875         635063875  1.546673     Ted Elliott     writer   \n",
       "\n",
       "   ...   News  Reality-TV  Romance  Sci-Fi  Short  Sport  Talk-Show  Thriller  \\\n",
       "0  ...  False       False    False   False  False  False      False     False   \n",
       "1  ...  False       False    False   False  False  False      False     False   \n",
       "2  ...  False       False    False   False  False  False      False     False   \n",
       "3  ...  False       False    False   False  False  False      False     False   \n",
       "4  ...  False       False    False   False  False  False      False     False   \n",
       "\n",
       "     War  Western  \n",
       "0  False    False  \n",
       "1  False    False  \n",
       "2  False    False  \n",
       "3  False    False  \n",
       "4  False    False  \n",
       "\n",
       "[5 rows x 37 columns]"
      ]
     },
     "execution_count": 53,
     "metadata": {},
     "output_type": "execute_result"
    }
   ],
   "source": [
    "master_df.head()"
   ]
  },
  {
   "cell_type": "code",
   "execution_count": 54,
   "id": "6d6437c0",
   "metadata": {},
   "outputs": [],
   "source": [
    "master_df['month'] = master_df['release_date'].dt.month"
   ]
  },
  {
   "cell_type": "code",
   "execution_count": 55,
   "id": "3f7dd44e",
   "metadata": {},
   "outputs": [],
   "source": [
    "master_df = master_df[master_df['inf_adj_production_budget']>=2.4e7]"
   ]
  },
  {
   "cell_type": "markdown",
   "id": "8418551b",
   "metadata": {},
   "source": [
    "## Median ROI Barplot for Each Month"
   ]
  },
  {
   "cell_type": "code",
   "execution_count": 56,
   "id": "a4860c29",
   "metadata": {},
   "outputs": [
    {
     "data": {
      "text/plain": [
       "Text(0.5, 1.0, 'Median ROI of All Genres for Each Month')"
      ]
     },
     "execution_count": 56,
     "metadata": {},
     "output_type": "execute_result"
    },
    {
     "data": {
      "image/png": "[encoded data removed]",
      "text/plain": [
       "<Figure size 640x480 with 1 Axes>"
      ]
     },
     "metadata": {},
     "output_type": "display_data"
    }
   ],
   "source": [
    "ax = sns.barplot(data=master_df, x = 'month', y='ROI', ci=None)\n",
    "ax.set_xticklabels(['Jan', 'Feb', 'Mar', 'Apr', 'May', 'Jun', 'Jul', 'Aug', 'Sept', 'Oct', 'Nov', 'Dec'])\n",
    "ax.set_ylabel('Median ROI')\n",
    "ax.set_xlabel('Month')\n",
    "ax.set_title('Median ROI of All Genres for Each Month')"
   ]
  },
  {
   "cell_type": "markdown",
   "id": "f9114dbb",
   "metadata": {},
   "source": [
    "## Median ROI of Combined Action, Adventure, Comedy for Each Month"
   ]
  },
  {
   "cell_type": "code",
   "execution_count": 58,
   "id": "1a5b8c8b",
   "metadata": {},
   "outputs": [
    {
     "name": "stdout",
     "output_type": "stream",
     "text": [
      "{'axes.facecolor': 'white', 'axes.edgecolor': 'w', 'axes.grid': False, 'axes.axisbelow': 'line', 'axes.labelcolor': 'w', 'figure.facecolor': 'white', 'grid.color': '#b0b0b0', 'grid.linestyle': '-', 'text.color': 'w', 'xtick.color': 'w', 'ytick.color': 'w', 'xtick.direction': 'out', 'ytick.direction': 'out', 'lines.solid_capstyle': <CapStyle.projecting: 'projecting'>, 'patch.edgecolor': 'black', 'patch.force_edgecolor': False, 'image.cmap': 'viridis', 'font.family': ['sans-serif'], 'font.sans-serif': ['DejaVu Sans', 'Bitstream Vera Sans', 'Computer Modern Sans Serif', 'Lucida Grande', 'Verdana', 'Geneva', 'Lucid', 'Arial', 'Helvetica', 'Avant Garde', 'sans-serif'], 'xtick.bottom': True, 'xtick.top': False, 'ytick.left': True, 'ytick.right': False, 'axes.spines.left': True, 'axes.spines.bottom': True, 'axes.spines.right': True, 'axes.spines.top': True}\n"
     ]
    },
    {
     "data": {
      "image/png": "[encoded data removed]",
      "text/plain": [
       "<Figure size 640x480 with 1 Axes>"
      ]
     },
     "metadata": {},
     "output_type": "display_data"
    }
   ],
   "source": [
    "# colors=['#eb5600', '#c2882b']\n",
    "sns.set_style(rc={'axes.edgecolor': 'w','text.color': 'w','xtick.color': 'w','ytick.color': 'w', 'axes.labelcolor':'w'})\n",
    "# total_gross_per_genre = pd.DataFrame({'genre':x_axis, 'total_worldwide_gross':y_axis})\n",
    "# bar = sns.barplot(data=total_gross_per_genre.iloc[:10], x = 'genre', y='total_worldwide_gross', \n",
    "#                   palette = ['#eb5600', '#eb5600', '#eb5600', '#6aa4c8', '#6aa4c8', '#6aa4c8', '#6aa4c8',\n",
    "#                             '#6aa4c8', '#6aa4c8', '#6aa4c8'])\n",
    "bar = sns.barplot(data=master_df[(master_df['Adventure'] == True) | (master_df['Action'] == True) \n",
    "                                | (master_df['Drama'] == True) & (master_df['inf_adj_production_budget'] > 2.4e7)],\n",
    "                                                                   x = 'month', y='ROI', ci=None, \n",
    "                 palette = ['#6aa4c8', '#6aa4c8', '#6aa4c8',\n",
    "                            '#6aa4c8', '#6aa4c8', '#6aa4c8', '#eb5600', '#6aa4c8', '#6aa4c8', '#6aa4c8'])\n",
    "bar.set_xticklabels(['Jan', 'Feb', 'Mar', 'Apr', 'May', 'Jun', 'Jul', 'Aug', 'Sept', 'Oct', 'Nov', 'Dec'],\n",
    "                    rotation=90, horizontalalignment='center')\n",
    "# ylabels = ['\\$' + '{:,.0f}'.format(y/1e9) + 'B' for y in bar.get_yticks()]\n",
    "# bar.set_yticklabels(ylabels)\n",
    "plt.xlabel('Month', fontsize=15)\n",
    "plt.ylabel('Median ROI', fontsize=15)\n",
    "plt.title('Monthly Median ROI: Action + Adventure + Comedy', fontsize=16)\n",
    "\n",
    "fig = bar.get_figure()\n",
    "\n",
    "print(sns.axes_style())\n",
    "\n",
    "fig.savefig('median_roi_by_year_act_adv_com.png', transparent=True, bbox_inches='tight', pad_inches=.15, dpi=300)"
   ]
  },
  {
   "cell_type": "code",
   "execution_count": 48,
   "id": "f22097ac",
   "metadata": {},
   "outputs": [
    {
     "name": "stdout",
     "output_type": "stream",
     "text": [
      "{'axes.facecolor': 'white', 'axes.edgecolor': 'w', 'axes.grid': False, 'axes.axisbelow': 'line', 'axes.labelcolor': 'w', 'figure.facecolor': 'white', 'grid.color': '#b0b0b0', 'grid.linestyle': '-', 'text.color': 'w', 'xtick.color': 'w', 'ytick.color': 'w', 'xtick.direction': 'out', 'ytick.direction': 'out', 'lines.solid_capstyle': <CapStyle.projecting: 'projecting'>, 'patch.edgecolor': 'black', 'patch.force_edgecolor': False, 'image.cmap': 'viridis', 'font.family': ['sans-serif'], 'font.sans-serif': ['DejaVu Sans', 'Bitstream Vera Sans', 'Computer Modern Sans Serif', 'Lucida Grande', 'Verdana', 'Geneva', 'Lucid', 'Arial', 'Helvetica', 'Avant Garde', 'sans-serif'], 'xtick.bottom': True, 'xtick.top': False, 'ytick.left': True, 'ytick.right': False, 'axes.spines.left': True, 'axes.spines.bottom': True, 'axes.spines.right': True, 'axes.spines.top': True}\n"
     ]
    },
    {
     "data": {
      "image/png": "[encoded data removed]",
      "text/plain": [
       "<Figure size 640x480 with 1 Axes>"
      ]
     },
     "metadata": {},
     "output_type": "display_data"
    }
   ],
   "source": [
    "# colors=['#eb5600', '#c2882b']\n",
    "sns.set_style(rc={'axes.edgecolor': 'w','text.color': 'w','xtick.color': 'w','ytick.color': 'w', 'axes.labelcolor':'w'})\n",
    "# total_gross_per_genre = pd.DataFrame({'genre':x_axis, 'total_worldwide_gross':y_axis})\n",
    "# bar = sns.barplot(data=total_gross_per_genre.iloc[:10], x = 'genre', y='total_worldwide_gross', \n",
    "#                   palette = ['#eb5600', '#eb5600', '#eb5600', '#6aa4c8', '#6aa4c8', '#6aa4c8', '#6aa4c8',\n",
    "#                             '#6aa4c8', '#6aa4c8', '#6aa4c8'])\n",
    "bar = sns.barplot(data=master_df[(master_df['Adventure'] == True) | (master_df['Action'] == True) \n",
    "                                | (master_df['Drama'] == True)], x = 'month', y='ROI', ci=None, \n",
    "                 palette = ['#6aa4c8', '#6aa4c8', '#6aa4c8',\n",
    "                            '#6aa4c8', '#6aa4c8', '#6aa4c8', '#eb5600', '#6aa4c8', '#6aa4c8', '#6aa4c8'])\n",
    "bar.set_xticklabels(['Jan', 'Feb', 'Mar', 'Apr', 'May', 'Jun', 'Jul', 'Aug', 'Sept', 'Oct', 'Nov', 'Dec'],\n",
    "                    rotation=90, horizontalalignment='center')\n",
    "# ylabels = ['\\$' + '{:,.0f}'.format(y/1e9) + 'B' for y in bar.get_yticks()]\n",
    "# bar.set_yticklabels(ylabels)\n",
    "plt.xlabel('Month', fontsize=15)\n",
    "plt.ylabel('Median ROI', fontsize=15)\n",
    "plt.title('Monthly Median ROI: Action + Adventure + Comedy', fontsize=16)\n",
    "\n",
    "fig = bar.get_figure()\n",
    "\n",
    "print(sns.axes_style())\n",
    "\n",
    "fig.savefig('median_roi_by_year_act_adv_com.png', transparent=True, bbox_inches='tight', pad_inches=.15, dpi=300)"
   ]
  },
  {
   "cell_type": "code",
   "execution_count": 27,
   "id": "ef488b47",
   "metadata": {},
   "outputs": [
    {
     "data": {
      "text/plain": [
       "Text(0.5, 1.0, 'Median ROI of Combined Action, Adventure, Comedy for Each Month')"
      ]
     },
     "execution_count": 27,
     "metadata": {},
     "output_type": "execute_result"
    },
    {
     "data": {
      "image/png": "[encoded data removed]",
      "text/plain": [
       "<Figure size 640x480 with 1 Axes>"
      ]
     },
     "metadata": {},
     "output_type": "display_data"
    }
   ],
   "source": [
    "ax = sns.barplot(data=master_df[(master_df['Adventure'] == True) | (master_df['Action'] == True) \n",
    "                                | (master_df['Drama'] == True)], x = 'month', y='ROI', ci=None)\n",
    "\n",
    "\n",
    "ax.set_xticklabels(['Jan', 'Feb', 'Mar', 'Apr', 'May', 'Jun', 'Jul', 'Aug', 'Sept', 'Oct', 'Nov', 'Dec'])\n",
    "ax.set_ylabel('Median ROI')\n",
    "ax.set_xlabel('Month')\n",
    "ax.set_title('Median ROI of Combined Action, Adventure, Comedy for Each Month')"
   ]
  },
  {
   "cell_type": "code",
   "execution_count": 24,
   "id": "6399eb7c",
   "metadata": {},
   "outputs": [
    {
     "data": {
      "text/plain": [
       "Text(0.5, 1.0, 'Median ROI of Combined Action, Adventure, Comedy for Each Month')"
      ]
     },
     "execution_count": 24,
     "metadata": {},
     "output_type": "execute_result"
    },
    {
     "data": {
      "image/png": "[encoded data removed]",
      "text/plain": [
       "<Figure size 640x480 with 1 Axes>"
      ]
     },
     "metadata": {},
     "output_type": "display_data"
    }
   ],
   "source": [
    "ax = sns.barplot(data=master_df, x = 'month', y='ROI', ci=None)\n",
    "ax = sns.barplot(data=master_df, x = 'month', y='ROI', hue='Action', ci=None)\n",
    "ax = sns.barplot(data=master_df, x = 'month', y='ROI', hue='Comedy', ci=None)\n",
    "\n",
    "\n",
    "ax.set_xticklabels(['Jan', 'Feb', 'Mar', 'Apr', 'May', 'Jun', 'Jul', 'Aug', 'Sept', 'Oct', 'Nov', 'Dec'])\n",
    "ax.set_ylabel('Median ROI')\n",
    "ax.set_xlabel('Month')\n",
    "ax.set_title('Median ROI of Combined Action, Adventure, Comedy for Each Month')"
   ]
  },
  {
   "cell_type": "code",
   "execution_count": null,
   "id": "a459494d",
   "metadata": {},
   "outputs": [],
   "source": [
    "# Selecting importance of actor vs. actress vs. director vs. producer vs. writer according to mean ROI of each one"
   ]
  }
 ],
 "metadata": {
  "kernelspec": {
   "display_name": "Python 3 (ipykernel)",
   "language": "python",
   "name": "python3"
  },
  "language_info": {
   "codemirror_mode": {
    "name": "ipython",
    "version": 3
   },
   "file_extension": ".py",
   "mimetype": "text/x-python",
   "name": "python",
   "nbconvert_exporter": "python",
   "pygments_lexer": "ipython3",
   "version": "3.9.13"
  }
 },
 "nbformat": 4,
 "nbformat_minor": 5
}
