{
 "cells": [
  {
   "cell_type": "markdown",
   "id": "a8c3a6e7",
   "metadata": {},
   "source": [
    "# Exploring the Data for the First Time\n",
    "## For figuring out what we want to do with this project"
   ]
  },
  {
   "cell_type": "markdown",
   "id": "f7f23d37",
   "metadata": {},
   "source": [
    "### 6 Data Files\n",
    "- Bom Movie Gross Info as CSV\n",
    "- IMDB Database w/ 8 Tables: directors, known_for, movie_akas, move_basics, movie_ratings, person, principals, writers\n",
    "- Rotten Tomatoes (RT) Movie Info as TSV\n",
    "- Rotten Tomatoes (RT) Reviews as TSV\n",
    "- The Movie Database (TMDB) as CSV\n",
    "- The Numbers (TN) Movie Budgets as CSV"
   ]
  },
  {
   "cell_type": "code",
   "execution_count": 1,
   "id": "f556163f",
   "metadata": {},
   "outputs": [],
   "source": [
    "import pandas as pd\n",
    "import numpy as np\n",
    "import matplotlib.pyplot as plt\n",
    "import sqlite3\n",
    "from zipfile import ZipFile # for unzipping the db.zip file"
   ]
  },
  {
   "cell_type": "markdown",
   "id": "80103dee",
   "metadata": {},
   "source": [
    "### Seeing the files in the directories"
   ]
  },
  {
   "cell_type": "code",
   "execution_count": 2,
   "id": "36b02a26",
   "metadata": {},
   "outputs": [
    {
     "name": "stdout",
     "output_type": "stream",
     "text": [
      "***ls of pwd***\n",
      "\n",
      "Data Exploration.ipynb final.ipynb\n",
      "exploratory.ipynb      im.db\n",
      "\n",
      "***ls of zippedData***\n",
      "\n",
      "ls: zippedData: No such file or directory\n"
     ]
    }
   ],
   "source": [
    "print(\"***ls of pwd***\\n\")\n",
    "! ls\n",
    "print(\"\\n***ls of zippedData***\\n\")\n",
    "! ls zippedData"
   ]
  },
  {
   "cell_type": "markdown",
   "id": "d595cf4b",
   "metadata": {},
   "source": [
    "### Opening the Files"
   ]
  },
  {
   "cell_type": "code",
   "execution_count": 3,
   "id": "7a5823c7",
   "metadata": {},
   "outputs": [],
   "source": [
    "bom_gross_df = pd.read_csv('../zippedData/bom.movie_gross.csv.gz')\n",
    "rt_movie_info_df = pd.read_csv('../zippedData/rt.movie_info.tsv.gz', delimiter='\\t')\n",
    "rt_reviews_df = pd.read_csv('../zippedData/rt.reviews.tsv.gz', delimiter='\\t', encoding='unicode_escape')\n",
    "tmdb_movies_df = pd.read_csv('../zippedData/tmdb.movies.csv.gz')\n",
    "tn_movie_budgets = pd.read_csv('../zippedData/tn.movie_budgets.csv.gz')\n",
    "zip_imdb = ZipFile('../zippedData/im.db.zip', 'r')\n",
    "zip_imdb.extractall(path='../zippedData/')"
   ]
  },
  {
   "cell_type": "code",
   "execution_count": 4,
   "id": "12351ff6",
   "metadata": {},
   "outputs": [],
   "source": [
    "# db = zip_imdb.open('im.db')\n",
    "# conn = sqlite3.connect(db)\n",
    "# pd.read_sql(\"\"\"SELECT name FROM sqlite_master  \n",
    "#   WHERE type='table';\"\"\", conn)\n",
    "# o = zip_imdb.open('im.db')\n",
    "# print(type(o))\n",
    "\n",
    "# z = zip_imdb.read()"
   ]
  },
  {
   "cell_type": "code",
   "execution_count": 5,
   "id": "0fe32bd8",
   "metadata": {},
   "outputs": [],
   "source": [
    "# conn = sqlite3.connect(zip_imdb.read())"
   ]
  },
  {
   "cell_type": "code",
   "execution_count": 6,
   "id": "924ab350",
   "metadata": {},
   "outputs": [
    {
     "data": {
      "text/html": [
       "<div>\n",
       "<style scoped>\n",
       "    .dataframe tbody tr th:only-of-type {\n",
       "        vertical-align: middle;\n",
       "    }\n",
       "\n",
       "    .dataframe tbody tr th {\n",
       "        vertical-align: top;\n",
       "    }\n",
       "\n",
       "    .dataframe thead th {\n",
       "        text-align: right;\n",
       "    }\n",
       "</style>\n",
       "<table border=\"1\" class=\"dataframe\">\n",
       "  <thead>\n",
       "    <tr style=\"text-align: right;\">\n",
       "      <th></th>\n",
       "      <th>name</th>\n",
       "    </tr>\n",
       "  </thead>\n",
       "  <tbody>\n",
       "    <tr>\n",
       "      <th>0</th>\n",
       "      <td>movie_basics</td>\n",
       "    </tr>\n",
       "    <tr>\n",
       "      <th>1</th>\n",
       "      <td>directors</td>\n",
       "    </tr>\n",
       "    <tr>\n",
       "      <th>2</th>\n",
       "      <td>known_for</td>\n",
       "    </tr>\n",
       "    <tr>\n",
       "      <th>3</th>\n",
       "      <td>movie_akas</td>\n",
       "    </tr>\n",
       "    <tr>\n",
       "      <th>4</th>\n",
       "      <td>movie_ratings</td>\n",
       "    </tr>\n",
       "    <tr>\n",
       "      <th>5</th>\n",
       "      <td>persons</td>\n",
       "    </tr>\n",
       "    <tr>\n",
       "      <th>6</th>\n",
       "      <td>principals</td>\n",
       "    </tr>\n",
       "    <tr>\n",
       "      <th>7</th>\n",
       "      <td>writers</td>\n",
       "    </tr>\n",
       "  </tbody>\n",
       "</table>\n",
       "</div>"
      ],
      "text/plain": [
       "            name\n",
       "0   movie_basics\n",
       "1      directors\n",
       "2      known_for\n",
       "3     movie_akas\n",
       "4  movie_ratings\n",
       "5        persons\n",
       "6     principals\n",
       "7        writers"
      ]
     },
     "execution_count": 6,
     "metadata": {},
     "output_type": "execute_result"
    }
   ],
   "source": [
    "conn = sqlite3.connect('../zippedData/im.db')\n",
    "cursor = conn.cursor()\n",
    "pd.read_sql(\"\"\"SELECT name FROM sqlite_master  \n",
    "  WHERE type='table';\"\"\", conn)"
   ]
  },
  {
   "cell_type": "code",
   "execution_count": 7,
   "id": "71f6815d",
   "metadata": {},
   "outputs": [
    {
     "name": "stdout",
     "output_type": "stream",
     "text": [
      "bom.movie_gross.csv.gz  rt.movie_info.tsv.gz    tn.movie_budgets.csv.gz\r\n",
      "im.db                   rt.reviews.tsv.gz\r\n",
      "im.db.zip               tmdb.movies.csv.gz\r\n"
     ]
    }
   ],
   "source": [
    "! ls ../zippedData"
   ]
  },
  {
   "cell_type": "markdown",
   "id": "021c1521",
   "metadata": {},
   "source": [
    "## DO THIS BEFORE ADD/COMMIT/MERGE/PUSH\n",
    "\n",
    "Deletes the im.db file so that it doesn't get pushed and cause an error\n",
    "\n",
    "Need to deal with this by using .gitignore instead"
   ]
  },
  {
   "cell_type": "code",
   "execution_count": 8,
   "id": "d4c816a4",
   "metadata": {},
   "outputs": [],
   "source": [
    "# ! rm ../zippedData/im.db"
   ]
  },
  {
   "cell_type": "code",
   "execution_count": null,
   "id": "2cb0a83c",
   "metadata": {},
   "outputs": [],
   "source": []
  }
 ],
 "metadata": {
  "kernelspec": {
   "display_name": "Python (learn-env)",
   "language": "python",
   "name": "learn-env"
  },
  "language_info": {
   "codemirror_mode": {
    "name": "ipython",
    "version": 3
   },
   "file_extension": ".py",
   "mimetype": "text/x-python",
   "name": "python",
   "nbconvert_exporter": "python",
   "pygments_lexer": "ipython3",
   "version": "3.8.5"
  }
 },
 "nbformat": 4,
 "nbformat_minor": 5
}
