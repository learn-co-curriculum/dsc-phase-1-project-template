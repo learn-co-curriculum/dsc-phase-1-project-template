{
 "cells": [
  {
   "cell_type": "code",
   "execution_count": 1,
   "id": "4b494106",
   "metadata": {},
   "outputs": [],
   "source": [
    "import pandas as pd\n",
    "import numpy as np\n",
    "import matplotlib as mpl\n",
    "import matplotlib.pyplot as plt\n",
    "import seaborn as sns"
   ]
  },
  {
   "cell_type": "code",
   "execution_count": 2,
   "id": "17c6bdf4",
   "metadata": {},
   "outputs": [],
   "source": [
    "master_df = pd.read_pickle('../plotting_data/movie_master_dataset_with_inflation.pkl')"
   ]
  },
  {
   "cell_type": "code",
   "execution_count": 3,
   "id": "f3d17fbb",
   "metadata": {},
   "outputs": [],
   "source": [
    "no_duplicates_df = master_df.drop_duplicates(subset=['movie','inf_adj_production_budget'])"
   ]
  },
  {
   "cell_type": "code",
   "execution_count": 4,
   "id": "b62a71c1",
   "metadata": {},
   "outputs": [],
   "source": [
    "no_duplicates_df = no_duplicates_df.sort_values('worldwide_gross', ascending=False)"
   ]
  },
  {
   "cell_type": "code",
   "execution_count": 6,
   "id": "67e7df78",
   "metadata": {},
   "outputs": [
    {
     "name": "stderr",
     "output_type": "stream",
     "text": [
      "C:\\Users\\parke\\AppData\\Local\\Temp\\ipykernel_1956\\1482378902.py:15: UserWarning: FixedFormatter should only be used together with FixedLocator\n",
      "  bar.set_xticklabels(xlabels, rotation=90, horizontalalignment='center')\n"
     ]
    },
    {
     "data": {
      "image/png": "[encoded data removed]",
      "text/plain": [
       "<Figure size 640x480 with 1 Axes>"
      ]
     },
     "metadata": {},
     "output_type": "display_data"
    }
   ],
   "source": [
    "# Setting a style that works well for setting a figure that is ready to present (not easily visible here)\n",
    "# If wanting to see the axes style information dict    -->   print(sns.axes_style())\n",
    "sns.set_style(rc={'axes.edgecolor': 'w','text.color': 'w','xtick.color': 'w','ytick.color': 'w', 'axes.labelcolor':'w'})\n",
    "\n",
    "\n",
    "\n",
    "\n",
    "# Creating barplot of total worldwide gross vs. genre\n",
    "bar = sns.barplot(data=no_duplicates_df.iloc[:10], x = 'worldwide_gross', y='movie',\n",
    "                  palette = ['#eb5600', '#eb5600', '#eb5600', '#6aa4c8', '#6aa4c8', '#6aa4c8', '#6aa4c8',\n",
    "                            '#6aa4c8', '#6aa4c8', '#6aa4c8'])\n",
    "\n",
    "# Setting labels titles and tiks\n",
    "xlabels = ['$' + '{:,.2f}'.format(x/1e9) + 'B' for x in bar.get_xticks()]\n",
    "bar.set_xticklabels(xlabels, rotation=90, horizontalalignment='center')\n",
    "#xlabels = ['$' + '{:,.0f}'.format(x/1e9) + 'B' for x in bar.get_xticks()]\n",
    "#bar.set_yticklabels(ylabels)\n",
    "plt.xlabel('Total Worldwide Gross', fontsize=15)\n",
    "plt.ylabel('Movie', fontsize=15)\n",
    "plt.title('Top 10 Worldwide Gross Revenue', fontsize=18)\n",
    "\n",
    "# Showing and saving the plots\n",
    "fig = bar.get_figure()\n",
    "fig.savefig('../images/top_10_gross_rev.png', transparent=True, bbox_inches='tight', pad_inches=.15, dpi=300)\n"
   ]
  },
  {
   "cell_type": "code",
   "execution_count": null,
   "id": "d8d0126f",
   "metadata": {},
   "outputs": [],
   "source": []
  }
 ],
 "metadata": {
  "kernelspec": {
   "display_name": "Python 3 (ipykernel)",
   "language": "python",
   "name": "python3"
  },
  "language_info": {
   "codemirror_mode": {
    "name": "ipython",
    "version": 3
   },
   "file_extension": ".py",
   "mimetype": "text/x-python",
   "name": "python",
   "nbconvert_exporter": "python",
   "pygments_lexer": "ipython3",
   "version": "3.9.13"
  }
 },
 "nbformat": 4,
 "nbformat_minor": 5
}
