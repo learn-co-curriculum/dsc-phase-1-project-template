{
 "cells": [
  {
   "cell_type": "markdown",
   "id": "a8c3a6e7",
   "metadata": {},
   "source": [
    "# Exploring the Data for the First Time\n",
    "## For figuring out what we want to do with this project"
   ]
  },
  {
   "cell_type": "markdown",
   "id": "f7f23d37",
   "metadata": {},
   "source": [
    "### 6 Data Files\n",
    "- Bom Movie Gross Info as CSV\n",
    "- IMDB Database w/ 8 Tables: directors, known_for, movie_akas, move_basics, movie_ratings, person, principals, writers\n",
    "- Rotten Tomatoes (RT) Movie Info as TSV\n",
    "- Rotten Tomatoes (RT) Reviews as TSV\n",
    "- The Movie Database (TMDB) as CSV\n",
    "- The Numbers (TN) Movie Budgets as CSV"
   ]
  },
  {
   "cell_type": "code",
   "execution_count": 1,
   "id": "f556163f",
   "metadata": {},
   "outputs": [],
   "source": [
    "import pandas as pd\n",
    "import numpy as np\n",
    "import matplotlib.pyplot as plt\n",
    "import sqlite3\n",
    "from zipfile import ZipFile # for unzipping the db.zip file"
   ]
  },
  {
   "cell_type": "markdown",
   "id": "80103dee",
   "metadata": {},
   "source": [
    "### Seeing the files in the directories"
   ]
  },
  {
   "cell_type": "code",
   "execution_count": 2,
   "id": "36b02a26",
   "metadata": {},
   "outputs": [
    {
     "name": "stdout",
     "output_type": "stream",
     "text": [
      "***ls of pwd***\n",
      "\n",
      "Data Exploration.ipynb im.db                  \u001b[34mnotebooks\u001b[m\u001b[m\n",
      "README.md              \u001b[34mimages\u001b[m\u001b[m                 \u001b[34mzippedData\u001b[m\u001b[m\n",
      "\n",
      "***ls of zippedData***\n",
      "\n",
      "bom.movie_gross.csv.gz  rt.movie_info.tsv.gz    tmdb.movies.csv.gz\n",
      "im.db.zip               rt.reviews.tsv.gz       tn.movie_budgets.csv.gz\n"
     ]
    }
   ],
   "source": [
    "print(\"***ls of pwd***\\n\")\n",
    "! ls\n",
    "print(\"\\n***ls of zippedData***\\n\")\n",
    "! ls zippedData"
   ]
  },
  {
   "cell_type": "markdown",
   "id": "d595cf4b",
   "metadata": {},
   "source": [
    "### Opening the Files"
   ]
  },
  {
   "cell_type": "code",
   "execution_count": 3,
   "id": "7a5823c7",
   "metadata": {},
   "outputs": [],
   "source": [
    "bom_gross_df = pd.read_csv('zippedData/bom.movie_gross.csv.gz')\n",
    "rt_movie_info_df = pd.read_csv('zippedData/rt.movie_info.tsv.gz', delimiter='\\t')\n",
    "rt_reviews_df = pd.read_csv('zippedData/rt.reviews.tsv.gz', delimiter='\\t', encoding='unicode_escape')\n",
    "tmdb_movies_df = pd.read_csv('zippedData/tmdb.movies.csv.gz')\n",
    "tn_movie_budgets = pd.read_csv('zippedData/tn.movie_budgets.csv.gz')"
   ]
  },
  {
   "cell_type": "code",
   "execution_count": null,
   "id": "12351ff6",
   "metadata": {},
   "outputs": [],
   "source": [
    "zip_db = ZipFile('zippedData/im.db.zip')\n",
    "zip_db.extractall()"
   ]
  },
  {
   "cell_type": "code",
   "execution_count": null,
   "id": "924ab350",
   "metadata": {},
   "outputs": [],
   "source": [
    "conn = sqlite3.connect('im.db')\n",
    "cursor = conn.cursor()\n",
    "pd.read_sql(\"\"\"SELECT name FROM sqlite_master  \n",
    "  WHERE type='table';\"\"\", conn)"
   ]
  },
  {
   "cell_type": "code",
   "execution_count": null,
   "id": "9a228cc3",
   "metadata": {},
   "outputs": [],
   "source": [
    "#################### NOT WORKING ####################\n",
    "# conn = sqlite3.connect(\"zippedData/im.db.zip\")\n",
    "# pd.read_sql(\"\"\"SELECT * FROM directors;\"\"\", conn)\n",
    "\n",
    "#### example opening of directors table ###\n",
    "# pd.read_sql(\"\"\"SELECT * FROM directors;\"\"\", conn)"
   ]
  }
 ],
 "metadata": {
  "kernelspec": {
   "display_name": "Python (learn-env)",
   "language": "python",
   "name": "learn-env"
  },
  "language_info": {
   "codemirror_mode": {
    "name": "ipython",
    "version": 3
   },
   "file_extension": ".py",
   "mimetype": "text/x-python",
   "name": "python",
   "nbconvert_exporter": "python",
   "pygments_lexer": "ipython3",
   "version": "3.8.5"
  }
 },
 "nbformat": 4,
 "nbformat_minor": 5
}
